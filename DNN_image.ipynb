{
 "cells": [
  {
   "cell_type": "markdown",
   "metadata": {},
   "source": [
    "Deep Neural Network \n",
    "=================================================\n",
    "- Training with the MNIST Data, and Testing with My Own Data\n",
    "----------------------\n"
   ]
  },
  {
   "cell_type": "code",
   "execution_count": 1,
   "metadata": {
    "scrolled": false
   },
   "outputs": [
    {
     "name": "stderr",
     "output_type": "stream",
     "text": [
      "/anaconda/lib/python3.6/importlib/_bootstrap.py:219: RuntimeWarning: compiletime version 3.5 of module 'tensorflow.python.framework.fast_tensor_util' does not match runtime version 3.6\n",
      "  return f(*args, **kwds)\n"
     ]
    }
   ],
   "source": [
    "import os\n",
    "\n",
    "import tensorflow as tf\n",
    "from tensorflow.examples.tutorials.mnist import input_data\n",
    "\n",
    "import cv2"
   ]
  },
  {
   "cell_type": "markdown",
   "metadata": {},
   "source": [
    "### MNIST Datasets"
   ]
  },
  {
   "cell_type": "code",
   "execution_count": 2,
   "metadata": {},
   "outputs": [
    {
     "name": "stdout",
     "output_type": "stream",
     "text": [
      "Extracting /tmp/data/train-images-idx3-ubyte.gz\n",
      "Extracting /tmp/data/train-labels-idx1-ubyte.gz\n",
      "Extracting /tmp/data/t10k-images-idx3-ubyte.gz\n",
      "Extracting /tmp/data/t10k-labels-idx1-ubyte.gz\n"
     ]
    }
   ],
   "source": [
    "mnist = input_data.read_data_sets(\"/tmp/data/\", one_hot = True)"
   ]
  },
  {
   "cell_type": "markdown",
   "metadata": {},
   "source": [
    "### Setting the Number of Nodes and the Batch size"
   ]
  },
  {
   "cell_type": "code",
   "execution_count": 3,
   "metadata": {
    "collapsed": true
   },
   "outputs": [],
   "source": [
    "n_nodes_hl1 = 500\n",
    "n_nodes_hl2 = 500\n",
    "n_nodes_hl3 = 500\n",
    "n_classes = 10\n",
    "\n",
    "batch_size = 100"
   ]
  },
  {
   "cell_type": "markdown",
   "metadata": {},
   "source": [
    "### Setting the Placeholder and Variables"
   ]
  },
  {
   "cell_type": "code",
   "execution_count": 4,
   "metadata": {
    "collapsed": true
   },
   "outputs": [],
   "source": [
    "x = tf.placeholder('float', [None, 784])\n",
    "y = tf.placeholder('float')\n",
    "\n",
    "w1 = tf.Variable(tf.random_normal([784, n_nodes_hl1]))\n",
    "b1 = tf.Variable(tf.random_normal([n_nodes_hl1]))\n",
    "\n",
    "w2 = tf.Variable(tf.random_normal([n_nodes_hl1, n_nodes_hl2]))\n",
    "b2 = tf.Variable(tf.random_normal([n_nodes_hl2]))\n",
    "\n",
    "w3 = tf.Variable(tf.random_normal([n_nodes_hl2, n_nodes_hl3]))\n",
    "b3 = tf.Variable(tf.random_normal([n_nodes_hl3]))\n",
    "\n",
    "w4 = tf.Variable(tf.random_normal([n_nodes_hl3, n_classes]))\n",
    "b4 = tf.Variable(tf.random_normal([n_classes]))"
   ]
  },
  {
   "cell_type": "markdown",
   "metadata": {},
   "source": [
    "### A Network Model"
   ]
  },
  {
   "cell_type": "code",
   "execution_count": 5,
   "metadata": {
    "collapsed": true
   },
   "outputs": [],
   "source": [
    "l1 = tf.add(tf.matmul(x,w1), b1)\n",
    "l1 = tf.nn.relu(l1)\n",
    "\n",
    "l2 = tf.add(tf.matmul(l1,w2), b2)\n",
    "l2 = tf.nn.relu(l2)\n",
    "\n",
    "l3 = tf.add(tf.matmul(l2,w3), b3)\n",
    "l3 = tf.nn.relu(l3)\n",
    "\n",
    "output = tf.matmul(l3,w4) + b4"
   ]
  },
  {
   "cell_type": "markdown",
   "metadata": {},
   "source": [
    "### Set the Path of a Metafile"
   ]
  },
  {
   "cell_type": "code",
   "execution_count": 6,
   "metadata": {
    "collapsed": true
   },
   "outputs": [],
   "source": [
    "save_path = 'machine/'\n",
    "model_name = 'DNN_md'\n",
    "if not os.path.exists(save_path):\n",
    "    os.makedirs(save_path)\n",
    "\n",
    "save_path_full = os.path.join(save_path, model_name)"
   ]
  },
  {
   "cell_type": "markdown",
   "metadata": {},
   "source": [
    "### Training"
   ]
  },
  {
   "cell_type": "code",
   "execution_count": 7,
   "metadata": {},
   "outputs": [
    {
     "name": "stdout",
     "output_type": "stream",
     "text": [
      "Epoch 0 completed out of 10 loss: 1859294.06021\n",
      "Epoch 1 completed out of 10 loss: 443055.837185\n",
      "Epoch 2 completed out of 10 loss: 240286.051234\n",
      "Epoch 3 completed out of 10 loss: 144394.376496\n",
      "Epoch 4 completed out of 10 loss: 91182.9656285\n",
      "Epoch 5 completed out of 10 loss: 59814.3832525\n",
      "Epoch 6 completed out of 10 loss: 39467.8898458\n",
      "Epoch 7 completed out of 10 loss: 31383.4220016\n",
      "Epoch 8 completed out of 10 loss: 24187.9441196\n",
      "Epoch 9 completed out of 10 loss: 22943.742405\n",
      "Accuracy: 0.9484\n"
     ]
    }
   ],
   "source": [
    "def train_neural_network(x):\n",
    "    prediction = output\n",
    "    cost = tf.reduce_mean( tf.nn.softmax_cross_entropy_with_logits(logits=prediction,labels=y) )\n",
    "    learning_rate=0.001\n",
    "    optimizer = tf.train.AdamOptimizer(learning_rate).minimize(cost)\n",
    "    \n",
    "    hm_epochs = 10\n",
    "    with tf.Session() as sess:\n",
    "        sess.run(tf.global_variables_initializer())\n",
    "\n",
    "        for epoch in range(hm_epochs):\n",
    "            epoch_loss = 0\n",
    "            for _ in range(int(mnist.train.num_examples/batch_size)):\n",
    "                epoch_x, epoch_y = mnist.train.next_batch(batch_size)\n",
    "                sess.run(l1, feed_dict={x: epoch_x})\n",
    "                _, c = sess.run([optimizer, cost], feed_dict={x: epoch_x, y: epoch_y})\n",
    "                epoch_loss += c\n",
    "\n",
    "            print('Epoch', epoch, 'completed out of',hm_epochs,'loss:',epoch_loss)\n",
    "\n",
    "        correct = tf.equal(tf.argmax(prediction, 1), tf.argmax(y, 1))\n",
    "\n",
    "        accuracy = tf.reduce_mean(tf.cast(correct, 'float'))\n",
    "        print('Accuracy:',accuracy.eval({x:mnist.test.images, y:mnist.test.labels}))\n",
    "\n",
    "        saver = tf.train.Saver([w1, w2, w3, w4, b1, b2, b3, b4])\n",
    "        saver.save(sess,save_path_full)\n",
    "        \n",
    "train_neural_network(x)"
   ]
  },
  {
   "cell_type": "markdown",
   "metadata": {},
   "source": [
    "### Test Datasets"
   ]
  },
  {
   "cell_type": "code",
   "execution_count": 8,
   "metadata": {},
   "outputs": [],
   "source": [
    "# load image\n",
    "img = cv2.imread(\"/Users/moonsooyoung/Downloads/seven_img.jpg\",0)    # 0 = gray\n",
    "\n",
    "rsz_img = cv2.resize(img, (28,28), interpolation=cv2.INTER_AREA)\n",
    "cv2.imshow(\"resize\", rsz_img)\n",
    "cv2.waitKey(0)\n",
    "cv2.destroyAllWindows()\n",
    "\n",
    "image = cv2.adaptiveThreshold(rsz_img,255,cv2.ADAPTIVE_THRESH_GAUSSIAN_C,\\\n",
    "            cv2.THRESH_BINARY_INV,11,2)\n",
    "cv2.imshow('inv',image)\n",
    "cv2.waitKey(0)\n",
    "cv2.destroyAllWindows()"
   ]
  },
  {
   "cell_type": "markdown",
   "metadata": {},
   "source": [
    "![Alt text](/Users/moonsooyoung/Desktop/seven_original.tiff)"
   ]
  },
  {
   "cell_type": "code",
   "execution_count": 9,
   "metadata": {},
   "outputs": [],
   "source": [
    "data=image.reshape(1,784)\n",
    "data = data/255    # 255 -> 1\n",
    "x_data = tf.cast(data, 'float')"
   ]
  },
  {
   "cell_type": "code",
   "execution_count": 10,
   "metadata": {},
   "outputs": [
    {
     "name": "stdout",
     "output_type": "stream",
     "text": [
      "INFO:tensorflow:Restoring parameters from machine/DNN_md\n"
     ]
    }
   ],
   "source": [
    "sess=tf.Session()\n",
    "sess.run(tf.global_variables_initializer())\n",
    "saver = tf.train.Saver([w1, w2, w3, w4, b1, b2, b3, b4])\n",
    "saver.restore(sess,save_path_full)"
   ]
  },
  {
   "cell_type": "code",
   "execution_count": 11,
   "metadata": {
    "collapsed": true
   },
   "outputs": [],
   "source": [
    "l1 = tf.add(tf.matmul(x_data,w1), b1)    # x: x_data\n",
    "l1 = tf.nn.relu(l1)\n",
    "\n",
    "l2 = tf.add(tf.matmul(l1,w2), b2)\n",
    "l2 = tf.nn.relu(l2)\n",
    "\n",
    "l3 = tf.add(tf.matmul(l2,w3), b3)\n",
    "l3 = tf.nn.relu(l3)\n",
    "\n",
    "output = tf.matmul(l3,w4) + b4"
   ]
  },
  {
   "cell_type": "markdown",
   "metadata": {},
   "source": [
    "### Results"
   ]
  },
  {
   "cell_type": "code",
   "execution_count": 12,
   "metadata": {},
   "outputs": [
    {
     "name": "stdout",
     "output_type": "stream",
     "text": [
      "[[ -6008.50390625  -5473.93701172  -1277.99084473   8195.74414062\n",
      "  -13364.93847656  15978.06445312 -16911.96679688  26420.09765625\n",
      "   -4852.39453125   5410.55175781]]\n",
      "[7]\n"
     ]
    }
   ],
   "source": [
    "print(sess.run (output))\n",
    "print(sess.run(tf.argmax(output, 1)))"
   ]
  }
 ],
 "metadata": {
  "kernelspec": {
   "display_name": "Python 3",
   "language": "python",
   "name": "python3"
  },
  "language_info": {
   "codemirror_mode": {
    "name": "ipython",
    "version": 3
   },
   "file_extension": ".py",
   "mimetype": "text/x-python",
   "name": "python",
   "nbconvert_exporter": "python",
   "pygments_lexer": "ipython3",
   "version": "3.6.3"
  }
 },
 "nbformat": 4,
 "nbformat_minor": 2
}
