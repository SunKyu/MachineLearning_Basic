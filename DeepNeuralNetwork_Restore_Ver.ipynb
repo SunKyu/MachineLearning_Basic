{
 "cells": [
  {
   "cell_type": "markdown",
   "metadata": {},
   "source": [
    "< How to Save and Restore the model >\n",
    "=================================================\n",
    "Deep Neural Network - Restore\n",
    "----------------------"
   ]
  },
  {
   "cell_type": "code",
   "execution_count": 1,
   "metadata": {},
   "outputs": [
    {
     "name": "stdout",
     "output_type": "stream",
     "text": [
      "Extracting /tmp/data/train-images-idx3-ubyte.gz\n",
      "Extracting /tmp/data/train-labels-idx1-ubyte.gz\n",
      "Extracting /tmp/data/t10k-images-idx3-ubyte.gz\n",
      "Extracting /tmp/data/t10k-labels-idx1-ubyte.gz\n"
     ]
    }
   ],
   "source": [
    "import tensorflow as tf\n",
    "from tensorflow.examples.tutorials.mnist import input_data\n",
    "mnist = input_data.read_data_sets(\"/tmp/data/\", one_hot = True)\n",
    "import matplotlib.pylab as plt\n",
    "\n",
    "import sys, os\n",
    "sys.path.append(os.pardir)\n",
    "\n",
    "from mnist import load_mnist"
   ]
  },
  {
   "cell_type": "code",
   "execution_count": 2,
   "metadata": {
    "collapsed": true
   },
   "outputs": [],
   "source": [
    "n_nodes_hl1 = 500\n",
    "n_nodes_hl2 = 500\n",
    "n_nodes_hl3 = 500\n",
    "\n",
    "n_classes = 10\n",
    "batch_size = 100\n",
    "\n",
    "x = tf.placeholder('float', [None, 784], name = 'x_')\n",
    "y = tf.placeholder('float', name = 'y_')"
   ]
  },
  {
   "cell_type": "code",
   "execution_count": 3,
   "metadata": {},
   "outputs": [
    {
     "data": {
      "image/png": "[encoded data removed]",
      "text/plain": [
       "<matplotlib.figure.Figure at 0x11b9339b0>"
      ]
     },
     "metadata": {},
     "output_type": "display_data"
    }
   ],
   "source": [
    "(x_train, t_train), (x_test, t_test) = load_mnist(flatten=True, normalize=False)\n",
    "\n",
    "a=x_train[5500]\n",
    "aa = a.reshape(28,28)\n",
    "plt.imshow(aa)\n",
    "plt.show()\n",
    "\n",
    "x = x_train[5500]\n",
    "x = x.reshape(-1,784)\n",
    "x = tf.cast(x, 'float')"
   ]
  },
  {
   "cell_type": "code",
   "execution_count": 4,
   "metadata": {
    "collapsed": true
   },
   "outputs": [],
   "source": [
    "hidden_1_layer = {'weights':tf.Variable(tf.random_normal([784, n_nodes_hl1]), name = 'w1'),\n",
    "                      'biases':tf.Variable(tf.random_normal([n_nodes_hl1]), name = 'b1')}\n",
    "\n",
    "hidden_2_layer = {'weights':tf.Variable(tf.random_normal([n_nodes_hl1, n_nodes_hl2]), name = 'w2'),\n",
    "                      'biases':tf.Variable(tf.random_normal([n_nodes_hl2]), name = 'b2')}\n",
    "\n",
    "hidden_3_layer = {'weights':tf.Variable(tf.random_normal([n_nodes_hl2, n_nodes_hl3]), name = 'w3'),\n",
    "                      'biases':tf.Variable(tf.random_normal([n_nodes_hl3]), name = 'b3')}\n",
    "\n",
    "output_layer = {'weights':tf.Variable(tf.random_normal([n_nodes_hl3, n_classes]), name = 'w4'),\n",
    "                    'biases':tf.Variable(tf.random_normal([n_classes]), name = 'b4')}"
   ]
  },
  {
   "cell_type": "code",
   "execution_count": 5,
   "metadata": {},
   "outputs": [
    {
     "name": "stdout",
     "output_type": "stream",
     "text": [
      "INFO:tensorflow:Restoring parameters from pyhelp/sy\n"
     ]
    }
   ],
   "source": [
    "save_path = 'pyhelp/'\n",
    "model_name = 'sy'\n",
    "if not os.path.exists(save_path):\n",
    "    os.makedirs(save_path)\n",
    "save_path_full = os.path.join(save_path, model_name)\n",
    "\n",
    "sess= tf.Session()\n",
    "saver = tf.train.Saver()\n",
    "saver = tf.train.import_meta_graph('/Users/moonsooyoung/Desktop/pyhelp/pyhelp/sy.meta')\n",
    "saver.restore(sess,save_path_full)"
   ]
  },
  {
   "cell_type": "code",
   "execution_count": 6,
   "metadata": {
    "collapsed": true
   },
   "outputs": [],
   "source": [
    "l1 = tf.add(tf.matmul(x,hidden_1_layer['weights']), hidden_1_layer['biases'],name = 'l1_')\n",
    "l1 = tf.nn.relu(l1, name = 'l1')\n",
    "\n",
    "l2 = tf.add(tf.matmul(l1,hidden_2_layer['weights']), hidden_2_layer['biases'],name = 'l2_')\n",
    "l2 = tf.nn.relu(l2, name = 'l2')\n",
    "\n",
    "l3 = tf.add(tf.matmul(l2,hidden_3_layer['weights']), hidden_3_layer['biases'],name = 'l3_')\n",
    "l3 = tf.nn.relu(l3, name = 'l3')\n",
    "\n",
    "output = tf.matmul(l3,output_layer['weights']) + output_layer['biases']"
   ]
  },
  {
   "cell_type": "code",
   "execution_count": 7,
   "metadata": {},
   "outputs": [
    {
     "name": "stdout",
     "output_type": "stream",
     "text": [
      "*****************************************\n",
      "[[ -5425075.       10510584.       -1175049.875    -1985677.125\n",
      "    -942181.75     -1102140.625    -3021251.25      1881475.25\n",
      "    1560218.625       69987.09375]]\n",
      "=========================================\n",
      "[1]\n"
     ]
    }
   ],
   "source": [
    "print('*****************************************')\n",
    "print(sess.run(output))\n",
    "print('=========================================')\n",
    "print(sess.run(tf.argmax(output,1)))"
   ]
  }
 ],
 "metadata": {
  "kernelspec": {
   "display_name": "Python 3",
   "language": "python",
   "name": "python3"
  },
  "language_info": {
   "codemirror_mode": {
    "name": "ipython",
    "version": 3
   },
   "file_extension": ".py",
   "mimetype": "text/x-python",
   "name": "python",
   "nbconvert_exporter": "python",
   "pygments_lexer": "ipython3",
   "version": "3.6.3"
  }
 },
 "nbformat": 4,
 "nbformat_minor": 2
}
